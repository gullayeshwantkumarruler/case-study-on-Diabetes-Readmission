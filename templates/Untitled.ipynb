{
 "cells": [
  {
   "cell_type": "code",
   "execution_count": 1,
   "metadata": {},
   "outputs": [],
   "source": [
    "from flask import Flask, jsonify, request\n",
    "import pandas as pd\n",
    "import numpy as np\n",
    "from sklearn import linear_model\n",
    "import joblib\n",
    "from bs4 import BeautifulSoup\n",
    "import re\n",
    "from sklearn.feature_extraction.text import CountVectorizer\n",
    "\n",
    "\n",
    "# https://www.tutorialspoint.com/flask\n",
    "import flask\n",
    "app = Flask(__name__)"
   ]
  },
  {
   "cell_type": "code",
   "execution_count": 2,
   "metadata": {},
   "outputs": [],
   "source": [
    "def preprocess(data_point):\n",
    "#     data.reset_index(inplace=True)\n",
    "    columns_to_be_considered=['encounter_id', 'patient_nbr', 'race', 'gender', 'age', 'weight',\n",
    "       'admission_type_id', 'discharge_disposition_id', 'admission_source_id',\n",
    "       'time_in_hospital', 'payer_code', 'medical_specialty',\n",
    "       'num_lab_procedures', 'num_procedures', 'num_medications',\n",
    "       'number_outpatient', 'number_emergency', 'number_inpatient', 'diag_1',\n",
    "       'diag_2', 'diag_3', 'number_diagnoses', 'max_glu_serum', 'A1Cresult',\n",
    "       'metformin', 'repaglinide', 'nateglinide', 'chlorpropamide',\n",
    "       'glimepiride', 'acetohexamide', 'glipizide', 'glyburide', 'tolbutamide',\n",
    "       'pioglitazone', 'rosiglitazone', 'acarbose', 'miglitol', 'troglitazone',\n",
    "       'tolazamide', 'examide', 'citoglipton', 'insulin',\n",
    "       'glyburide-metformin', 'glipizide-metformin',\n",
    "       'glimepiride-pioglitazone', 'metformin-rosiglitazone',\n",
    "       'metformin-pioglitazone', 'change', 'diabetesMed']\n",
    "    data = pd.DataFrame(data_point,columns = columns_to_be_considered)\n",
    "    data.rename({'time_in_hospital':'no_of_days_admitted'},inplace=True)\n",
    "    data['num_visits'] = data.groupby('patient_nbr')['patient_nbr'].transform('count')\n",
    "    data.sort_values(by = 'patient_nbr', ascending = True,inplace=True)\n",
    "    data.sort_values(['patient_nbr', 'encounter_id'],inplace=True)\n",
    "    data.drop_duplicates(['patient_nbr'],inplace=True)\n",
    "    data=data[((data.discharge_disposition_id != 11) & \n",
    "                                          (data.discharge_disposition_id != 13) &\n",
    "                                          (data.discharge_disposition_id != 14) & \n",
    "                                          (data.discharge_disposition_id != 19) & \n",
    "                                          (data.discharge_disposition_id != 20) & \n",
    "                                          (data.discharge_disposition_id != 21))]\n",
    "    data.groupby('discharge_disposition_id').size()\n",
    "    data = data[((data.race != '?'))]\n",
    "    data.replace(to_replace='?', value=np.nan, inplace=True)\n",
    "    data = data.drop(['weight', 'medical_specialty', 'payer_code'], axis = 1)\n",
    "    data = data[((data.diag_1 != '?') &\n",
    "                                (data.diag_2 != '?') &\n",
    "                                (data.diag_3 != '?'))]\n",
    "    d1 = pd.DataFrame(data.diag_1.apply(lambda col: first_letter(str(col))), dtype = 'float')\n",
    "    d2 = pd.DataFrame(data.diag_2.apply(lambda col: first_letter(str(col))), dtype = 'float')\n",
    "    d3 = pd.DataFrame(data.diag_3.apply(lambda col: first_letter(str(col))), dtype = 'float')\n",
    "    data = pd.concat([data, d1, d2, d3], axis = 1)\n",
    "    data.columns.values[47:50] = ('Diag1', 'Diag2', 'Diag3')\n",
    "    data = data.drop(['diag_1', 'diag_2', 'diag_3'], axis = 1)\n",
    "    data['first_diag'] = data.Diag1.apply(lambda col: cat_col(col))\n",
    "    data['second_diag'] = data.Diag2.apply(lambda col: cat_col(col))\n",
    "    data['third_diag'] = data.Diag3.apply(lambda col: cat_col(col))\n",
    "    data.rename(columns={'glyburide-metformin': 'glyburide_metformin',\n",
    "                       'glipizide-metformin': 'glipizide_metformin',\n",
    "                       'glimepiride-pioglitazone': 'glimepiride_pioglitazone',\n",
    "                       'metformin-rosiglitazone': 'metformin_rosiglitazone',\n",
    "                       'metformin-pioglitazone': 'metformin_pioglitazone', }, inplace=True)\n",
    "    data = data.drop(['encounter_id', 'patient_nbr', 'Diag1', 'Diag2', 'Diag3'], axis = 1)\n",
    "    data = data.replace('?', np.NaN)\n",
    "    data.loc[(data.gender == 'Unknown/Invalid'),'gender']='Female'    \n",
    "    data['HbA1c'] = np.where(data['A1Cresult'] == 'None', 0, 1)\n",
    "    data['num_lab_procedure_ranges'] = data['num_lab_procedures'].apply(lambda x: binary_lab_procedures(x))\n",
    "    data=data.drop(['num_lab_procedures'], axis = 1)\n",
    "    columns = data[['admission_type_id', 'discharge_disposition_id', 'admission_source_id']] \n",
    "    data[['admission_type_id', 'discharge_disposition_id', 'admission_source_id']] = columns.astype(object)\n",
    "    data_encoded=data.apply(LabelEncoder().fit_transform)\n",
    "    return data_encoded\n",
    "\n"
   ]
  },
  {
   "cell_type": "code",
   "execution_count": 3,
   "metadata": {},
   "outputs": [],
   "source": [
    "@app.route('/')\n",
    "def hello_world():\n",
    "    return 'Hello World!'"
   ]
  },
  {
   "cell_type": "code",
   "execution_count": 4,
   "metadata": {},
   "outputs": [],
   "source": [
    "@app.route('/index')\n",
    "def index():\n",
    "    return flask.render_template('index.html')"
   ]
  },
  {
   "cell_type": "code",
   "execution_count": 6,
   "metadata": {},
   "outputs": [],
   "source": [
    "@app.route('/fun1', methods=['POST'])\n",
    "def fun1(data):\n",
    "    best_model = joblib.load('stacking_classifier_model_final_last.pkl')\n",
    "    data_encoded=preprocess(data)\n",
    "#     print(data_encoded)\n",
    "    label = best_model.predict(data_encoded)\n",
    "#     print('The label is : ', label)\n",
    "    if pred[0]:\n",
    "        prediction = \"not-readmitted\"\n",
    "    else:\n",
    "        prediction = \"yes-readmitted\"\n",
    "\n",
    "    return jsonify({'prediction': prediction})"
   ]
  },
  {
   "cell_type": "code",
   "execution_count": null,
   "metadata": {},
   "outputs": [
    {
     "name": "stdout",
     "output_type": "stream",
     "text": [
      " * Serving Flask app \"__main__\" (lazy loading)\n",
      " * Environment: production\n",
      "   WARNING: This is a development server. Do not use it in a production deployment.\n",
      "   Use a production WSGI server instead.\n",
      " * Debug mode: off\n"
     ]
    },
    {
     "name": "stderr",
     "output_type": "stream",
     "text": [
      " * Running on http://0.0.0.0:8080/ (Press CTRL+C to quit)\n"
     ]
    }
   ],
   "source": [
    "if __name__ == '__main__':\n",
    "    app.run(host='0.0.0.0', port=8080)"
   ]
  },
  {
   "cell_type": "code",
   "execution_count": null,
   "metadata": {},
   "outputs": [],
   "source": []
  }
 ],
 "metadata": {
  "kernelspec": {
   "display_name": "Python 3",
   "language": "python",
   "name": "python3"
  },
  "language_info": {
   "codemirror_mode": {
    "name": "ipython",
    "version": 3
   },
   "file_extension": ".py",
   "mimetype": "text/x-python",
   "name": "python",
   "nbconvert_exporter": "python",
   "pygments_lexer": "ipython3",
   "version": "3.7.4"
  }
 },
 "nbformat": 4,
 "nbformat_minor": 2
}
